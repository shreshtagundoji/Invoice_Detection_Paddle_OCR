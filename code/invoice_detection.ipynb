{
 "cells": [
  {
   "cell_type": "code",
   "execution_count": 2,
   "metadata": {},
   "outputs": [],
   "source": [
    "import os\n",
    "import pandas as pd\n",
    "import json"
   ]
  },
  {
   "cell_type": "code",
   "execution_count": 3,
   "metadata": {},
   "outputs": [],
   "source": [
    "train_entities_path = 'train/entities'\n",
    "test_entities_path = 'test/entities'"
   ]
  },
  {
   "cell_type": "code",
   "execution_count": 4,
   "metadata": {},
   "outputs": [],
   "source": [
    "def load_entities(path):\n",
    "    entities = []\n",
    "    for file in os.listdir(path):\n",
    "        if file.endswith('.txt'):\n",
    "            with open(os.path.join(path, file), 'r') as f:\n",
    "                data = json.load(f)\n",
    "                data['file'] = file.replace('.txt', '.jpg')\n",
    "                entities.append(data)\n",
    "    return entities"
   ]
  },
  {
   "cell_type": "code",
   "execution_count": null,
   "metadata": {},
   "outputs": [],
   "source": [
    "train_entities = load_entities(train_entities_path)\n",
    "test_entities = load_entities(test_entities_path)\n",
    "\n",
    "df_train = pd.DataFrame(train_entities)\n",
    "df_test = pd.DataFrame(test_entities)"
   ]
  },
  {
   "cell_type": "code",
   "execution_count": 5,
   "metadata": {},
   "outputs": [
    {
     "name": "stdout",
     "output_type": "stream",
     "text": [
      "Train Data:\n",
      "                           company        date  \\\n",
      "0  DIGI TELECOMMUNICATIONS SDN BHD  13/10/2017   \n",
      "1   GARDENIA BAKERIES (KL) SDN BHD  30/10/2017   \n",
      "2               MR. D.I.Y. SDN BHD    24-11-17   \n",
      "3               RESTORAN WAN SHENG  21-03-2018   \n",
      "4                  ADVANCO COMPANY  17/01/2018   \n",
      "\n",
      "                                             address    total  \\\n",
      "0  LOT LG 315, 1-UTAMA SHOPPING CENTRE, LEBUH BAN...   234.40   \n",
      "1  LOT 3, JALAN PELABUR 23/1, 40300 SHAH ALAM, SE...    62.60   \n",
      "2  LOT 1851-A & 1851-B, JALAN KPB 6, KAWASAN PERI...  RM 3.90   \n",
      "3  NO.2, JALAN TEMENGGUNG 19/9, SEKSYEN 9, BANDAR...     6.70   \n",
      "4  NO 1&3, JALAN WANGSA DELIMA 12, WANGSA LINK, W...    29.00   \n",
      "\n",
      "               file  \n",
      "0  X51006555072.jpg  \n",
      "1  X51006557117.jpg  \n",
      "2  X51005568884.jpg  \n",
      "3  X51005711441.jpg  \n",
      "4  X51005806685.jpg  \n"
     ]
    }
   ],
   "source": [
    "print(\"Train Data:\")\n",
    "print(df_train.head())"
   ]
  },
  {
   "cell_type": "code",
   "execution_count": 6,
   "metadata": {},
   "outputs": [
    {
     "name": "stdout",
     "output_type": "stream",
     "text": [
      "\n",
      "Test Data:\n",
      "                            company        date  \\\n",
      "0       SYARIKAT PERNIAGAAN GIN KEE  25/01/2018   \n",
      "1          HON HWA HARDWARE TRADING  05/01/2017   \n",
      "2             OJC MARKETING SDN BHD  15/01/2019   \n",
      "3    GARDENIA BAKERIES (KL) SDN BHD  27/10/2017   \n",
      "4  GERBANG ALAF RESTAURANTS SDN BHD  24/06/2018   \n",
      "\n",
      "                                             address   total              file  \n",
      "0  NO 290, JALAN AIR PANAS, SETAPAK, 53200, KUALA...  190.80  X51005675104.jpg  \n",
      "1  NO 37, JALAN MANIS 7, TAMAN SEGAR, 56100 CHERA...    5.00  X51005568890.jpg  \n",
      "2  NO 2 & 4, JALAN BAYU 4, BANDAR SERI ALAM, B175...  193.00  X00016469670.jpg  \n",
      "3  LOT 3, JALAN PELABUR 23/1, 40300 SHAH ALAM, SE...   35.88  X51006557507.jpg  \n",
      "4  LEVEL 6, BANGUNAN TH, DAMANSARA UPTOWN3 NO.3, ...    7.35  X51007846396.jpg  \n"
     ]
    }
   ],
   "source": [
    "print(\"\\nTest Data:\")\n",
    "print(df_test.head())"
   ]
  },
  {
   "cell_type": "code",
   "execution_count": 7,
   "metadata": {},
   "outputs": [],
   "source": [
    "def data_exploration(df):\n",
    "    print(f\"Total number of images: {len(df)}\")\n",
    "    print(f\"Classes: {df.columns.tolist()}\")\n",
    "\n",
    "    for column in df.columns:\n",
    "        if column != 'file':\n",
    "            print(f\"\\nClass: {column}\")\n",
    "            print(df[column].value_counts().head(10))"
   ]
  },
  {
   "cell_type": "code",
   "execution_count": 8,
   "metadata": {},
   "outputs": [
    {
     "name": "stdout",
     "output_type": "stream",
     "text": [
      "\n",
      "Train Data Exploration:\n",
      "Total number of images: 626\n",
      "Classes: ['company', 'date', 'address', 'total', 'file']\n",
      "\n",
      "Class: company\n",
      "GARDENIA BAKERIES (KL) SDN BHD    45\n",
      "UNIHAKKA INTERNATIONAL SDN BHD    42\n",
      "SANYU STATIONERY SHOP             36\n",
      "99 SPEED MART S/B                 31\n",
      "MR. D.I.Y. (M) SDN BHD            29\n",
      "RESTORAN WAN SHENG                26\n",
      "SYARIKAT PERNIAGAAN GIN KEE       22\n",
      "AEON CO. (M) BHD                  15\n",
      "POPULAR BOOK CO. (M) SDN BHD      12\n",
      "KEDAI PAPAN YEW CHUAN             12\n",
      "Name: company, dtype: int64\n",
      "\n",
      "Class: date\n",
      "20/03/2018    5\n",
      "11/05/2018    5\n",
      "27/03/2018    5\n",
      "12/02/2018    4\n",
      "04/12/2017    4\n",
      "02/01/2018    4\n",
      "20/04/2018    4\n",
      "21/03/2018    3\n",
      "14/04/2018    3\n",
      "03/02/2018    3\n",
      "Name: date, dtype: int64\n",
      "\n",
      "Class: address\n",
      "LOT 3, JALAN PELABUR 23/1, 40300 SHAH ALAM, SELANGOR.                                               46\n",
      "LOT 1851-A & 1851-B, JALAN KPB 6, KAWASAN PERINDUSTRIAN BALAKONG, 43300 SERI KEMBANGAN, SELANGOR    44\n",
      "NO. 31G&33G, JALAN SETIA INDAH X ,U13/X 40170 SETIA ALAM                                            36\n",
      "12, JALAN TAMPOI 7/4,KAWASAN PERINDUSTRIAN TAMPOI,81200 JOHOR BAHRU,JOHOR                           34\n",
      "NO.2, JALAN TEMENGGUNG 19/9, SEKSYEN 9, BANDAR MAHKOTA CHERAS, 43200 CHERAS, SELANGOR               26\n",
      "NO 290, JALAN AIR PANAS, SETAPAK, 53200, KUALA LUMPUR.                                              18\n",
      "3RD FLR, AEON TAMAN MALURI SC JLN JEJAKA, TAMAN MALURI CHERAS, 55100 KUALA LUMPUR                   15\n",
      "NO. 17-G, JALAN SETIA INDAH (X) U13/X, SETIA ALAM, SEKSYEN U13, 40170 SHAH ALAM,                    12\n",
      "LOT 276 JALAN BANTING 43800 DENGKIL, SELANGOR                                                        7\n",
      "NO 8, JALAN 7/118B, DESA TUN RAZAK 56000 KUALA LUMPUR, MALAYSIA                                      7\n",
      "Name: address, dtype: int64\n",
      "\n",
      "Class: total\n",
      "$8.20    12\n",
      "8.70      9\n",
      "12.00     8\n",
      "5.00      8\n",
      "7.00      7\n",
      "6.00      6\n",
      "5.90      4\n",
      "$8.70     4\n",
      "50.00     4\n",
      "35.00     4\n",
      "Name: total, dtype: int64\n"
     ]
    }
   ],
   "source": [
    "print(\"\\nTrain Data Exploration:\")\n",
    "data_exploration(df_train)"
   ]
  },
  {
   "cell_type": "code",
   "execution_count": 9,
   "metadata": {},
   "outputs": [
    {
     "name": "stdout",
     "output_type": "stream",
     "text": [
      "\n",
      "Test Data Exploration:\n",
      "Total number of images: 347\n",
      "Classes: ['company', 'date', 'address', 'total', 'file']\n",
      "\n",
      "Class: company\n",
      "GARDENIA BAKERIES (KL) SDN BHD      31\n",
      "UNIHAKKA INTERNATIONAL SDN BHD      27\n",
      "RESTORAN WAN SHENG                  14\n",
      "99 SPEED MART S/B                   13\n",
      "SANYU STATIONERY SHOP               13\n",
      "MR. D.I.Y. (M) SDN BHD              12\n",
      "SYARIKAT PERNIAGAAN GIN KEE         11\n",
      "AEON CO. (M) BHD                     8\n",
      "KEDAI PAPAN YEW CHUAN                7\n",
      "GERBANG ALAF RESTAURANTS SDN BHD     7\n",
      "Name: company, dtype: int64\n",
      "\n",
      "Class: date\n",
      "21/03/2018    4\n",
      "01/02/2018    4\n",
      "09/02/2018    3\n",
      "03/06/2018    3\n",
      "04/01/2018    3\n",
      "21-03-2018    3\n",
      "30/04/2017    3\n",
      "13/01/2018    3\n",
      "25/03/2018    3\n",
      "14/03/2018    3\n",
      "Name: date, dtype: int64\n",
      "\n",
      "Class: address\n",
      "LOT 3, JALAN PELABUR 23/1, 40300 SHAH ALAM, SELANGOR.                                               29\n",
      "12, JALAN TAMPOI 7/4,KAWASAN PERINDUSTRIAN TAMPOI,81200 JOHOR BAHRU,JOHOR                           23\n",
      "LOT 1851-A & 1851-B, JALAN KPB 6, KAWASAN PERINDUSTRIAN BALAKONG, 43300 SERI KEMBANGAN, SELANGOR    17\n",
      "NO.2, JALAN TEMENGGUNG 19/9, SEKSYEN 9, BANDAR MAHKOTA CHERAS, 43200 CHERAS, SELANGOR               14\n",
      "NO. 31G&33G, JALAN SETIA INDAH X ,U13/X 40170 SETIA ALAM                                            13\n",
      "NO 290, JALAN AIR PANAS, SETAPAK, 53200, KUALA LUMPUR.                                              10\n",
      "3RD FLR, AEON TAMAN MALURI SC JLN JEJAKA, TAMAN MALURI CHERAS, 55100 KUALA LUMPUR                    9\n",
      "LOT 276 JALAN BANTING 43800 DENGKIL, SELANGOR.                                                       7\n",
      "NO 8, JALAN 7/118B, DESA TUN RAZAK 56000 KUALA LUMPUR, MALAYSIA                                      6\n",
      "NO. 1 JALAN EURO 1 OFF JALAN BATU TIGA SUNGAI BULOH SEKSYEN U3 SHAH ALAM, 40150                      4\n",
      "Name: address, dtype: int64\n",
      "\n",
      "Class: total\n",
      "$8.20    6\n",
      "8.70     6\n",
      "7.20     6\n",
      "$6.60    3\n",
      "23.80    3\n",
      "4.80     3\n",
      "1.90     2\n",
      "3.00     2\n",
      "68.90    2\n",
      "21.60    2\n",
      "Name: total, dtype: int64\n"
     ]
    }
   ],
   "source": [
    "print(\"\\nTest Data Exploration:\")\n",
    "data_exploration(df_test)"
   ]
  },
  {
   "cell_type": "code",
   "execution_count": 11,
   "metadata": {},
   "outputs": [
    {
     "name": "stdout",
     "output_type": "stream",
     "text": [
      "[2024/07/08 22:18:55] ppocr DEBUG: Namespace(help='==SUPPRESS==', use_gpu=False, use_xpu=False, use_npu=False, use_mlu=False, ir_optim=True, use_tensorrt=False, min_subgraph_size=15, precision='fp32', gpu_mem=500, gpu_id=0, image_dir=None, page_num=0, det_algorithm='DB', det_model_dir='/Users/shreshtagundoju/.paddleocr/whl/det/en/en_PP-OCRv3_det_infer', det_limit_side_len=960, det_limit_type='max', det_box_type='quad', det_db_thresh=0.3, det_db_box_thresh=0.6, det_db_unclip_ratio=1.5, max_batch_size=10, use_dilation=False, det_db_score_mode='fast', det_east_score_thresh=0.8, det_east_cover_thresh=0.1, det_east_nms_thresh=0.2, det_sast_score_thresh=0.5, det_sast_nms_thresh=0.2, det_pse_thresh=0, det_pse_box_thresh=0.85, det_pse_min_area=16, det_pse_scale=1, scales=[8, 16, 32], alpha=1.0, beta=1.0, fourier_degree=5, rec_algorithm='SVTR_LCNet', rec_model_dir='/Users/shreshtagundoju/.paddleocr/whl/rec/en/en_PP-OCRv4_rec_infer', rec_image_inverse=True, rec_image_shape='3, 48, 320', rec_batch_num=6, max_text_length=25, rec_char_dict_path='/Users/shreshtagundoju/anaconda3/lib/python3.11/site-packages/paddleocr/ppocr/utils/en_dict.txt', use_space_char=True, vis_font_path='./doc/fonts/simfang.ttf', drop_score=0.5, e2e_algorithm='PGNet', e2e_model_dir=None, e2e_limit_side_len=768, e2e_limit_type='max', e2e_pgnet_score_thresh=0.5, e2e_char_dict_path='./ppocr/utils/ic15_dict.txt', e2e_pgnet_valid_set='totaltext', e2e_pgnet_mode='fast', use_angle_cls=True, cls_model_dir='/Users/shreshtagundoju/.paddleocr/whl/cls/ch_ppocr_mobile_v2.0_cls_infer', cls_image_shape='3, 48, 192', label_list=['0', '180'], cls_batch_num=6, cls_thresh=0.9, enable_mkldnn=False, cpu_threads=10, use_pdserving=False, warmup=False, sr_model_dir=None, sr_image_shape='3, 32, 128', sr_batch_num=1, draw_img_save_dir='./inference_results', save_crop_res=False, crop_res_save_dir='./output', use_mp=False, total_process_num=1, process_id=0, benchmark=False, save_log_path='./log_output/', show_log=True, use_onnx=False, return_word_box=False, output='./output', table_max_len=488, table_algorithm='TableAttn', table_model_dir=None, merge_no_span_structure=True, table_char_dict_path=None, layout_model_dir=None, layout_dict_path=None, layout_score_threshold=0.5, layout_nms_threshold=0.5, kie_algorithm='LayoutXLM', ser_model_dir=None, re_model_dir=None, use_visual_backbone=True, ser_dict_path='../train_data/XFUND/class_list_xfun.txt', ocr_order_method=None, mode='structure', image_orientation=False, layout=True, table=True, ocr=True, recovery=False, use_pdf2docx_api=False, invert=False, binarize=False, alphacolor=(255, 255, 255), lang='en', det=True, rec=True, type='ocr', savefile=False, ocr_version='PP-OCRv4', structure_version='PP-StructureV2')\n"
     ]
    },
    {
     "name": "stdout",
     "output_type": "stream",
     "text": [
      "[2024/07/08 22:18:57] ppocr DEBUG: dt_boxes num : 34, elapsed : 0.3725309371948242\n",
      "[2024/07/08 22:18:57] ppocr DEBUG: cls num  : 34, elapsed : 0.2641141414642334\n",
      "[2024/07/08 22:19:04] ppocr DEBUG: rec_res num  : 34, elapsed : 7.308068037033081\n",
      "[[[[112.0, 181.0], [498.0, 181.0], [498.0, 202.0], [112.0, 202.0]], ('DIGI TELECOMMUNICATIONS SDN BHD', 0.9354791045188904)], [[[240.0, 206.0], [360.0, 206.0], [360.0, 227.0], [240.0, 227.0]], ('(201283-M', 0.9654237031936646)], [[[85.0, 227.0], [533.0, 230.0], [533.0, 255.0], [85.0, 252.0]], ('LOT LG 3151-UTAMA SHOPPINGCENTRE,', 0.917939305305481)], [[[97.0, 253.0], [498.0, 256.0], [497.0, 280.0], [97.0, 277.0]], ('LEBUH BANDAR UTAMA-BANDAR UTAMA,', 0.9297536611557007)], [[[174.0, 281.0], [426.0, 281.0], [426.0, 303.0], [174.0, 303.0]], ('Petaling Jaya47800', 0.929825484752655)], [[[251.0, 305.0], [350.0, 305.0], [350.0, 326.0], [251.0, 326.0]], ('SELANGOR', 0.9849645495414734)], [[[238.0, 356.0], [373.0, 356.0], [373.0, 377.0], [238.0, 377.0]], ('TAX INVOICE', 0.9604638814926147)], [[[75.0, 378.0], [263.0, 381.0], [263.0, 405.0], [75.0, 403.0]], ('GST Reg Number', 0.9125481843948364)], [[[338.0, 382.0], [487.0, 382.0], [487.0, 402.0], [338.0, 402.0]], ('001211957248', 0.9965274333953857)], [[[50.0, 430.0], [175.0, 430.0], [175.0, 450.0], [50.0, 450.0]], ('13/10/2017', 0.9979060888290405)], [[[486.0, 428.0], [552.0, 428.0], [552.0, 454.0], [486.0, 454.0]], ('12:35', 0.9063857793807983)], [[[48.0, 453.0], [337.0, 453.0], [337.0, 477.0], [48.0, 477.0]], ('P0S Login ID:DMqr34013', 0.850674033164978)], [[[51.0, 480.0], [549.0, 480.0], [549.0, 500.0], [51.0, 500.0]], ('Store Name: DSOO1-BPOO9 OSCAR COLOUR LAB', 0.8415383100509644)], [[[62.0, 502.0], [546.0, 505.0], [546.0, 529.0], [62.0, 526.0]], ('&TELECOMMUNICATIONSDNBHD.523847-W', 0.9263979196548462)], [[[225.0, 553.0], [375.0, 553.0], [375.0, 575.0], [225.0, 575.0]], ('BILL PAYMENT', 0.9513816237449646)], [[[50.0, 579.0], [189.0, 579.0], [189.0, 600.0], [50.0, 600.0]], ('Paid Amount', 0.941175639629364)], [[[424.0, 577.0], [504.0, 577.0], [504.0, 602.0], [424.0, 602.0]], ('234.40', 0.9848745465278625)], [[[49.0, 603.0], [249.0, 605.0], [249.0, 626.0], [49.0, 625.0]], ('Sub Total Amount', 0.9590895175933838)], [[[423.0, 601.0], [502.0, 604.0], [501.0, 629.0], [422.0, 627.0]], ('234.40', 0.9590691924095154)], [[[51.0, 629.0], [199.0, 629.0], [199.0, 651.0], [51.0, 651.0]], ('Total Amount', 0.9574514031410217)], [[[426.0, 630.0], [502.0, 630.0], [502.0, 653.0], [426.0, 653.0]], ('234.40', 0.9958718419075012)], [[[49.0, 656.0], [188.0, 656.0], [188.0, 677.0], [49.0, 677.0]], ('Credit Card', 0.9622652530670166)], [[[423.0, 653.0], [502.0, 656.0], [501.0, 678.0], [422.0, 676.0]], ('234.40', 0.9945595264434814)], [[[75.0, 681.0], [511.0, 681.0], [511.0, 702.0], [75.0, 702.0]], ('Credit Card No.XXXX XXXx XXXx 6974', 0.8084385395050049)], [[[51.0, 731.0], [325.0, 731.0], [325.0, 752.0], [51.0, 752.0]], ('Total Amount Collected', 0.9569774866104126)], [[[422.0, 728.0], [500.0, 723.0], [502.0, 755.0], [424.0, 761.0]], ('234.40', 0.9348819851875305)], [[[50.0, 756.0], [398.0, 758.0], [398.0, 778.0], [50.0, 776.0]], ('Customer Name:LIM RUEY CHYI', 0.8933029174804688)], [[[49.0, 781.0], [337.0, 783.0], [337.0, 804.0], [49.0, 803.0]], ('Mobi1e No.:60143149319', 0.8932832479476929)], [[[51.0, 809.0], [375.0, 809.0], [375.0, 830.0], [51.0, 830.0]], ('Acc0unt No.1000004587104', 0.9439095854759216)], [[[223.0, 828.0], [387.0, 835.0], [386.0, 863.0], [222.0, 856.0]], ('Customer Copy', 0.9632502198219299)], [[[210.0, 906.0], [401.0, 910.0], [401.0, 934.0], [210.0, 931.0]], ('Have a nice day', 0.9293143153190613)], [[[174.0, 933.0], [422.0, 934.0], [422.0, 955.0], [174.0, 954.0]], ('34013001929120171013', 0.9967249631881714)]]\n"
     ]
    }
   ],
   "source": [
    "import os\n",
    "import paddleocr\n",
    "from paddleocr import PaddleOCR, draw_ocr\n",
    "import matplotlib.pyplot as plt\n",
    "from PIL import Image\n",
    "\n",
    "# Initialize the PaddleOCR model\n",
    "ocr = PaddleOCR(use_angle_cls=True, lang='en')\n",
    "\n",
    "# Define paths\n",
    "train_img_path = 'train/img'\n",
    "test_img_path = 'test/img'\n",
    "\n",
    "# Function to perform OCR on an image\n",
    "def extract_text(image_path):\n",
    "    result = ocr.ocr(image_path, cls=True)\n",
    "    return result\n",
    "\n",
    "# Function to visualize the OCR results\n",
    "def visualize_ocr(image_path, ocr_result):\n",
    "    image = Image.open(image_path).convert('RGB')\n",
    "    boxes = [line[0] for line in ocr_result]\n",
    "    txts = [line[1][0] for line in ocr_result]\n",
    "    scores = [line[1][1] for line in ocr_result]\n",
    "    im_show = draw_ocr(image, boxes, txts, scores, font_path='path/to/font.ttf')\n",
    "    im_show = Image.fromarray(im_show)\n",
    "    plt.imshow(im_show)\n",
    "    plt.show()\n",
    "\n",
    "# Perform OCR on a sample train image\n",
    "sample_image_path = os.path.join(train_img_path, 'X51006555072.jpg')\n",
    "ocr_result = extract_text(sample_image_path)\n",
    "\n",
    "# Print OCR result\n",
    "for line in ocr_result:\n",
    "    print(line)\n"
   ]
  },
  {
   "cell_type": "code",
   "execution_count": null,
   "metadata": {},
   "outputs": [],
   "source": [
    "# Visualize the OCR result\n",
    "visualize_ocr(sample_image_path, ocr_result)"
   ]
  },
  {
   "cell_type": "code",
   "execution_count": null,
   "metadata": {},
   "outputs": [],
   "source": []
  }
 ],
 "metadata": {
  "kernelspec": {
   "display_name": "base",
   "language": "python",
   "name": "python3"
  },
  "language_info": {
   "codemirror_mode": {
    "name": "ipython",
    "version": 3
   },
   "file_extension": ".py",
   "mimetype": "text/x-python",
   "name": "python",
   "nbconvert_exporter": "python",
   "pygments_lexer": "ipython3",
   "version": "3.11.4"
  }
 },
 "nbformat": 4,
 "nbformat_minor": 2
}
