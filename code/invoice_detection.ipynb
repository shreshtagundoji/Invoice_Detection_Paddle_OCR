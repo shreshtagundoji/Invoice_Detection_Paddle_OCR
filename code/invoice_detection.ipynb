{
 "cells": [
  {
   "cell_type": "code",
   "execution_count": 2,
   "metadata": {},
   "outputs": [],
   "source": [
    "import os\n",
    "import pandas as pd\n",
    "import json"
   ]
  },
  {
   "cell_type": "code",
   "execution_count": 3,
   "metadata": {},
   "outputs": [],
   "source": [
    "train_entities_path = 'train/entities'\n",
    "test_entities_path = 'test/entities'"
   ]
  },
  {
   "cell_type": "code",
   "execution_count": 4,
   "metadata": {},
   "outputs": [],
   "source": [
    "def load_entities(path):\n",
    "    entities = []\n",
    "    for file in os.listdir(path):\n",
    "        if file.endswith('.txt'):\n",
    "            with open(os.path.join(path, file), 'r') as f:\n",
    "                data = json.load(f)\n",
    "                data['file'] = file.replace('.txt', '.jpg')\n",
    "                entities.append(data)\n",
    "    return entities"
   ]
  },
  {
   "cell_type": "code",
   "execution_count": 5,
   "metadata": {},
   "outputs": [
    {
     "name": "stdout",
     "output_type": "stream",
     "text": [
      "Train Data:\n",
      "                           company        date  \\\n",
      "0  DIGI TELECOMMUNICATIONS SDN BHD  13/10/2017   \n",
      "1   GARDENIA BAKERIES (KL) SDN BHD  30/10/2017   \n",
      "2               MR. D.I.Y. SDN BHD    24-11-17   \n",
      "3               RESTORAN WAN SHENG  21-03-2018   \n",
      "4                  ADVANCO COMPANY  17/01/2018   \n",
      "\n",
      "                                             address    total  \\\n",
      "0  LOT LG 315, 1-UTAMA SHOPPING CENTRE, LEBUH BAN...   234.40   \n",
      "1  LOT 3, JALAN PELABUR 23/1, 40300 SHAH ALAM, SE...    62.60   \n",
      "2  LOT 1851-A & 1851-B, JALAN KPB 6, KAWASAN PERI...  RM 3.90   \n",
      "3  NO.2, JALAN TEMENGGUNG 19/9, SEKSYEN 9, BANDAR...     6.70   \n",
      "4  NO 1&3, JALAN WANGSA DELIMA 12, WANGSA LINK, W...    29.00   \n",
      "\n",
      "               file  \n",
      "0  X51006555072.jpg  \n",
      "1  X51006557117.jpg  \n",
      "2  X51005568884.jpg  \n",
      "3  X51005711441.jpg  \n",
      "4  X51005806685.jpg  \n"
     ]
    }
   ],
   "source": [
    "train_entities = load_entities(train_entities_path)\n",
    "test_entities = load_entities(test_entities_path)\n",
    "\n",
    "df_train = pd.DataFrame(train_entities)\n",
    "df_test = pd.DataFrame(test_entities)\n",
    "\n",
    "print(\"Train Data:\")\n",
    "print(df_train.head())"
   ]
  },
  {
   "cell_type": "code",
   "execution_count": 6,
   "metadata": {},
   "outputs": [
    {
     "name": "stdout",
     "output_type": "stream",
     "text": [
      "\n",
      "Test Data:\n",
      "                            company        date  \\\n",
      "0       SYARIKAT PERNIAGAAN GIN KEE  25/01/2018   \n",
      "1          HON HWA HARDWARE TRADING  05/01/2017   \n",
      "2             OJC MARKETING SDN BHD  15/01/2019   \n",
      "3    GARDENIA BAKERIES (KL) SDN BHD  27/10/2017   \n",
      "4  GERBANG ALAF RESTAURANTS SDN BHD  24/06/2018   \n",
      "\n",
      "                                             address   total              file  \n",
      "0  NO 290, JALAN AIR PANAS, SETAPAK, 53200, KUALA...  190.80  X51005675104.jpg  \n",
      "1  NO 37, JALAN MANIS 7, TAMAN SEGAR, 56100 CHERA...    5.00  X51005568890.jpg  \n",
      "2  NO 2 & 4, JALAN BAYU 4, BANDAR SERI ALAM, B175...  193.00  X00016469670.jpg  \n",
      "3  LOT 3, JALAN PELABUR 23/1, 40300 SHAH ALAM, SE...   35.88  X51006557507.jpg  \n",
      "4  LEVEL 6, BANGUNAN TH, DAMANSARA UPTOWN3 NO.3, ...    7.35  X51007846396.jpg  \n"
     ]
    }
   ],
   "source": [
    "print(\"\\nTest Data:\")\n",
    "print(df_test.head())"
   ]
  },
  {
   "cell_type": "code",
   "execution_count": 7,
   "metadata": {},
   "outputs": [],
   "source": [
    "def data_exploration(df):\n",
    "    print(f\"Total number of images: {len(df)}\")\n",
    "    print(f\"Classes: {df.columns.tolist()}\")\n",
    "\n",
    "    for column in df.columns:\n",
    "        if column != 'file':\n",
    "            print(f\"\\nClass: {column}\")\n",
    "            print(df[column].value_counts().head(10))"
   ]
  },
  {
   "cell_type": "code",
   "execution_count": 8,
   "metadata": {},
   "outputs": [
    {
     "name": "stdout",
     "output_type": "stream",
     "text": [
      "\n",
      "Train Data Exploration:\n",
      "Total number of images: 626\n",
      "Classes: ['company', 'date', 'address', 'total', 'file']\n",
      "\n",
      "Class: company\n",
      "GARDENIA BAKERIES (KL) SDN BHD    45\n",
      "UNIHAKKA INTERNATIONAL SDN BHD    42\n",
      "SANYU STATIONERY SHOP             36\n",
      "99 SPEED MART S/B                 31\n",
      "MR. D.I.Y. (M) SDN BHD            29\n",
      "RESTORAN WAN SHENG                26\n",
      "SYARIKAT PERNIAGAAN GIN KEE       22\n",
      "AEON CO. (M) BHD                  15\n",
      "POPULAR BOOK CO. (M) SDN BHD      12\n",
      "KEDAI PAPAN YEW CHUAN             12\n",
      "Name: company, dtype: int64\n",
      "\n",
      "Class: date\n",
      "20/03/2018    5\n",
      "11/05/2018    5\n",
      "27/03/2018    5\n",
      "12/02/2018    4\n",
      "04/12/2017    4\n",
      "02/01/2018    4\n",
      "20/04/2018    4\n",
      "21/03/2018    3\n",
      "14/04/2018    3\n",
      "03/02/2018    3\n",
      "Name: date, dtype: int64\n",
      "\n",
      "Class: address\n",
      "LOT 3, JALAN PELABUR 23/1, 40300 SHAH ALAM, SELANGOR.                                               46\n",
      "LOT 1851-A & 1851-B, JALAN KPB 6, KAWASAN PERINDUSTRIAN BALAKONG, 43300 SERI KEMBANGAN, SELANGOR    44\n",
      "NO. 31G&33G, JALAN SETIA INDAH X ,U13/X 40170 SETIA ALAM                                            36\n",
      "12, JALAN TAMPOI 7/4,KAWASAN PERINDUSTRIAN TAMPOI,81200 JOHOR BAHRU,JOHOR                           34\n",
      "NO.2, JALAN TEMENGGUNG 19/9, SEKSYEN 9, BANDAR MAHKOTA CHERAS, 43200 CHERAS, SELANGOR               26\n",
      "NO 290, JALAN AIR PANAS, SETAPAK, 53200, KUALA LUMPUR.                                              18\n",
      "3RD FLR, AEON TAMAN MALURI SC JLN JEJAKA, TAMAN MALURI CHERAS, 55100 KUALA LUMPUR                   15\n",
      "NO. 17-G, JALAN SETIA INDAH (X) U13/X, SETIA ALAM, SEKSYEN U13, 40170 SHAH ALAM,                    12\n",
      "LOT 276 JALAN BANTING 43800 DENGKIL, SELANGOR                                                        7\n",
      "NO 8, JALAN 7/118B, DESA TUN RAZAK 56000 KUALA LUMPUR, MALAYSIA                                      7\n",
      "Name: address, dtype: int64\n",
      "\n",
      "Class: total\n",
      "$8.20    12\n",
      "8.70      9\n",
      "12.00     8\n",
      "5.00      8\n",
      "7.00      7\n",
      "6.00      6\n",
      "5.90      4\n",
      "$8.70     4\n",
      "50.00     4\n",
      "35.00     4\n",
      "Name: total, dtype: int64\n"
     ]
    }
   ],
   "source": [
    "print(\"\\nTrain Data Exploration:\")\n",
    "data_exploration(df_train)"
   ]
  },
  {
   "cell_type": "code",
   "execution_count": 9,
   "metadata": {},
   "outputs": [
    {
     "name": "stdout",
     "output_type": "stream",
     "text": [
      "\n",
      "Test Data Exploration:\n",
      "Total number of images: 347\n",
      "Classes: ['company', 'date', 'address', 'total', 'file']\n",
      "\n",
      "Class: company\n",
      "GARDENIA BAKERIES (KL) SDN BHD      31\n",
      "UNIHAKKA INTERNATIONAL SDN BHD      27\n",
      "RESTORAN WAN SHENG                  14\n",
      "99 SPEED MART S/B                   13\n",
      "SANYU STATIONERY SHOP               13\n",
      "MR. D.I.Y. (M) SDN BHD              12\n",
      "SYARIKAT PERNIAGAAN GIN KEE         11\n",
      "AEON CO. (M) BHD                     8\n",
      "KEDAI PAPAN YEW CHUAN                7\n",
      "GERBANG ALAF RESTAURANTS SDN BHD     7\n",
      "Name: company, dtype: int64\n",
      "\n",
      "Class: date\n",
      "21/03/2018    4\n",
      "01/02/2018    4\n",
      "09/02/2018    3\n",
      "03/06/2018    3\n",
      "04/01/2018    3\n",
      "21-03-2018    3\n",
      "30/04/2017    3\n",
      "13/01/2018    3\n",
      "25/03/2018    3\n",
      "14/03/2018    3\n",
      "Name: date, dtype: int64\n",
      "\n",
      "Class: address\n",
      "LOT 3, JALAN PELABUR 23/1, 40300 SHAH ALAM, SELANGOR.                                               29\n",
      "12, JALAN TAMPOI 7/4,KAWASAN PERINDUSTRIAN TAMPOI,81200 JOHOR BAHRU,JOHOR                           23\n",
      "LOT 1851-A & 1851-B, JALAN KPB 6, KAWASAN PERINDUSTRIAN BALAKONG, 43300 SERI KEMBANGAN, SELANGOR    17\n",
      "NO.2, JALAN TEMENGGUNG 19/9, SEKSYEN 9, BANDAR MAHKOTA CHERAS, 43200 CHERAS, SELANGOR               14\n",
      "NO. 31G&33G, JALAN SETIA INDAH X ,U13/X 40170 SETIA ALAM                                            13\n",
      "NO 290, JALAN AIR PANAS, SETAPAK, 53200, KUALA LUMPUR.                                              10\n",
      "3RD FLR, AEON TAMAN MALURI SC JLN JEJAKA, TAMAN MALURI CHERAS, 55100 KUALA LUMPUR                    9\n",
      "LOT 276 JALAN BANTING 43800 DENGKIL, SELANGOR.                                                       7\n",
      "NO 8, JALAN 7/118B, DESA TUN RAZAK 56000 KUALA LUMPUR, MALAYSIA                                      6\n",
      "NO. 1 JALAN EURO 1 OFF JALAN BATU TIGA SUNGAI BULOH SEKSYEN U3 SHAH ALAM, 40150                      4\n",
      "Name: address, dtype: int64\n",
      "\n",
      "Class: total\n",
      "$8.20    6\n",
      "8.70     6\n",
      "7.20     6\n",
      "$6.60    3\n",
      "23.80    3\n",
      "4.80     3\n",
      "1.90     2\n",
      "3.00     2\n",
      "68.90    2\n",
      "21.60    2\n",
      "Name: total, dtype: int64\n"
     ]
    }
   ],
   "source": [
    "print(\"\\nTest Data Exploration:\")\n",
    "data_exploration(df_test)"
   ]
  },
  {
   "cell_type": "code",
   "execution_count": null,
   "metadata": {},
   "outputs": [],
   "source": []
  }
 ],
 "metadata": {
  "kernelspec": {
   "display_name": "base",
   "language": "python",
   "name": "python3"
  },
  "language_info": {
   "codemirror_mode": {
    "name": "ipython",
    "version": 3
   },
   "file_extension": ".py",
   "mimetype": "text/x-python",
   "name": "python",
   "nbconvert_exporter": "python",
   "pygments_lexer": "ipython3",
   "version": "3.11.4"
  }
 },
 "nbformat": 4,
 "nbformat_minor": 2
}
